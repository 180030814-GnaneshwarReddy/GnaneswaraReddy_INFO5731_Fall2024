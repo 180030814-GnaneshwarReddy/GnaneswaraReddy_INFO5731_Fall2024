{
  "cells": [
    {
      "cell_type": "markdown",
      "metadata": {
        "id": "view-in-github",
        "colab_type": "text"
      },
      "source": [
        "<a href=\"https://colab.research.google.com/github/180030814-GnaneshwarReddy/GnaneswaraReddy_INFO5731_Fall2024/blob/main/Palem_Gnaneswara_Assignment_01.ipynb\" target=\"_parent\"><img src=\"https://colab.research.google.com/assets/colab-badge.svg\" alt=\"Open In Colab\"/></a>"
      ]
    },
    {
      "cell_type": "markdown",
      "metadata": {
        "id": "Ryk8D1Q4Wsrp"
      },
      "source": [
        "# **INFO5731 Assignment One**"
      ]
    },
    {
      "cell_type": "markdown",
      "source": [
        "This assignment includes range of programming tasks and data analysis exercises, aiming to enhance your Python skills and proficiency in string manipulation, numerical computations, and data science. Follow the instructions carefully and design well-structured Python programs to address each question.\n",
        "\n",
        "Late Submission will have a penalty of 10% reduction for each day after the deadline."
      ],
      "metadata": {
        "id": "qcP6re2g5A5r"
      }
    },
    {
      "cell_type": "markdown",
      "metadata": {
        "id": "JkzR8cFAyGik"
      },
      "source": [
        "# Question 1 (10 points).\n",
        "\n",
        "The formula that describes the volume V of a hemisphere with radius r is the following:\n",
        "\n",
        "$ V=\\frac{2}{3}\\ast\\ \\pi\\ast\\ r^3 $\n",
        "\n",
        "Write a program to calculate the value of V when r is in the range of even numbers from 1-20. Output the result in the following format:\n",
        "\n",
        "\tr\tV\n",
        "\t2\t…\n",
        "\t4\t…\n",
        "\t6\t…\n",
        "\t.\n",
        "\t.\n",
        "\t.\n",
        "\t20\t…\n"
      ]
    },
    {
      "cell_type": "code",
      "execution_count": 29,
      "metadata": {
        "id": "jDyTKYs-yGit",
        "colab": {
          "base_uri": "https://localhost:8080/"
        },
        "outputId": "851e7362-9505-469e-a3ce-a0aab418987d"
      },
      "outputs": [
        {
          "output_type": "stream",
          "name": "stdout",
          "text": [
            "r    v\n",
            "2    16.755160819145562\n",
            "4    134.0412865531645\n",
            "6    452.38934211693015\n",
            "8    1072.330292425316\n",
            "10    2094.3951023931954\n",
            "12    3619.114736935441\n",
            "14    5747.0201609669275\n",
            "16    8578.642339402528\n",
            "18    12214.512237157114\n",
            "20    16755.160819145563\n"
          ]
        }
      ],
      "source": [
        "import math\n",
        "import pandas as pd\n",
        "\n",
        "def volume(r):\n",
        "    return (2/3)*math.pi*(r**3)\n",
        "print(\"r    v\")\n",
        "for r in range(2,21,2):\n",
        "    v = volume(r)\n",
        "    print(str(r)+\"    \"+str(v))\n"
      ]
    },
    {
      "cell_type": "markdown",
      "metadata": {
        "id": "90_NR8c5XGWc"
      },
      "source": [
        "# Question 2 (20 points)\n",
        "\n",
        "(a) Write a Python program to generate a sequence of 12 random numbers falling within the range of 50 to 150.\n",
        "\n",
        "(b) Arrange the generated numbers in ascending order. Display the sorted list.\n",
        "\n",
        "(c) Extend the program to arrange the numbers in descending order as well. Present the sorted list accordingly.\n",
        "\n",
        "(d) Compute and output the average of the entire group of generated numbers.\n",
        "\n",
        "(e) Enhance the program to calculate and display the average of the first 6 numbers from both the ascending and descending sorted lists."
      ]
    },
    {
      "cell_type": "code",
      "execution_count": 30,
      "metadata": {
        "id": "5QX6bJjGWXY9",
        "colab": {
          "base_uri": "https://localhost:8080/"
        },
        "outputId": "fceabe28-4575-416d-e56c-6d1f417c4615"
      },
      "outputs": [
        {
          "output_type": "stream",
          "name": "stdout",
          "text": [
            "Generating 12 random numbers: [112, 145, 128, 88, 75, 78, 126, 118, 62, 61, 111, 119]\n",
            "Ascending order of generated numbers: [61, 62, 75, 78, 88, 111, 112, 118, 119, 126, 128, 145]\n",
            "Descending order of generated numbers: [145, 128, 126, 119, 118, 112, 111, 88, 78, 75, 62, 61]\n",
            "Average of the entire group of generated numbers: 101.91666666666667\n",
            "Average of the first 6 numbers in ascending order: 79.16666666666667\n",
            "Average of the first 6 numbers in descending order: 124.66666666666667\n"
          ]
        }
      ],
      "source": [
        "# Write code for each of the sub parts with proper comments.\n",
        "import random\n",
        "\n",
        "# (a) Generate a sequence of 12 random numbers within the range of 50 to 150\n",
        "random_numbers = [random.randint(50, 150) for i in range(12)]\n",
        "print(\"Generating 12 random numbers:\",random_numbers)\n",
        "\n",
        "# (b) Arrange the generated numbers in ascending order\n",
        "random_numbers.sort()\n",
        "print(\"Ascending order of generated numbers:\",random_numbers)\n",
        "\n",
        "# (c) Arrange the numbers in descending order\n",
        "random_numbers.sort(reverse=True)\n",
        "print(\"Descending order of generated numbers:\",random_numbers)\n",
        "\n",
        "# (d) Compute and output the average of the entire group of generated numbers\n",
        "average_ramdom_numbers = sum(random_numbers) / len(random_numbers)\n",
        "print(\"Average of the entire group of generated numbers:\",average_ramdom_numbers)\n",
        "\n",
        "# (e) Calculate the average of the first 6 numbers from both sorted lists\n",
        "ascending_order = sorted(random_numbers)\n",
        "descending_order = sorted(random_numbers, reverse=True)\n",
        "average_first_6_ascending = sum(ascending_order[:6]) / 6\n",
        "average_first_6_descending = sum(descending_order[:6]) / 6\n",
        "print(\"Average of the first 6 numbers in ascending order:\", average_first_6_ascending)\n",
        "print(\"Average of the first 6 numbers in descending order:\", average_first_6_descending)\n"
      ]
    },
    {
      "cell_type": "markdown",
      "metadata": {
        "id": "1F_PZdH9Sh49"
      },
      "source": [
        "# Question 3 (20 points).\n",
        "\n",
        "Create a Python program that encompasses various string manipulation task:\n",
        "\n",
        "(a) Prompt the user to input two sentences.\n",
        "\n",
        "(b) Transform each sentence into a list, where each element corresponds to a word in the sentence. For example, if the sentences are \"Hello, how are you doing today?\" and \"This is an example sentence for the program!\"\n",
        "\n",
        "The program should output:\n",
        "['Hello', ',', 'how', 'are', 'you', 'doing', 'today', '?', 'This', 'is', 'an', 'example', 'sentence', 'for', 'the', 'program', '!']\n",
        "\n",
        "(c) Compare the two sentences. Print out a list of words that occur in both sentences.\n",
        "\n",
        "(d) Remove any punctuation from the sentence and print the sanitized sentences. It should remove at least the following characters, but it can remove more: period(“.”), comma (“,”), semicolon (“;”), and colon (“:”).\n",
        "\n",
        "(e) Count the number of vowels in each of the sentences. Print out each vowel and the occurrences  in the each of the two sentences separately, such as:\n",
        "\n",
        "Sentence1: a:2, e:2, i:0, etc.\n",
        "Sentence2: a:1, e:2, i:2, etc.\n",
        "\n",
        "Design a well-structured Python program to execute these tasks efficiently."
      ]
    },
    {
      "cell_type": "code",
      "execution_count": 31,
      "metadata": {
        "id": "Y0oOSlsOS0cq",
        "colab": {
          "base_uri": "https://localhost:8080/"
        },
        "outputId": "b46452cf-96d9-4f12-93e2-dc71c903a1ff"
      },
      "outputs": [
        {
          "output_type": "stream",
          "name": "stdout",
          "text": [
            "Enter the first sentence: Hi, how are you\n",
            "Enter the second sentence: I'm fine, what about you\n",
            "Sentence 1: ['Hi,', 'how', 'are', 'you']\n",
            "Sentence 2: [\"I'm\", 'fine,', 'what', 'about', 'you']\n",
            "Common words in both sentences: ['you']\n",
            "Sanitized Sentence 1: Hi how are you\n",
            "Sanitized Sentence 2: Im fine what about you\n",
            "Vowel count in Sentence 1: {'a': 1, 'e': 1, 'i': 1, 'o': 2, 'u': 1, 'A': 0, 'E': 0, 'I': 0, 'O': 0, 'U': 0}\n",
            "Vowel count in Sentence 2: {'a': 2, 'e': 1, 'i': 1, 'o': 2, 'u': 2, 'A': 0, 'E': 0, 'I': 1, 'O': 0, 'U': 0}\n"
          ]
        }
      ],
      "source": [
        "# Your code here\n",
        "import string\n",
        "\n",
        "# (a) Prompt the user to input two sentences\n",
        "sentence1 = input(\"Enter the first sentence: \")\n",
        "sentence2 = input(\"Enter the second sentence: \")\n",
        "\n",
        "# (b) Transform each sentence into a list of words\n",
        "words1 = sentence1.split()\n",
        "words2 = sentence2.split()\n",
        "print(\"Sentence 1:\",words1)\n",
        "print(\"Sentence 2:\",words2)\n",
        "\n",
        "# (c) Compare the two sentences and print out a list of words that occur in both sentences\n",
        "common_words = list(set(words1) & set(words2))\n",
        "print(\"Common words in both sentences:\",common_words)\n",
        "\n",
        "# (d) Remove punctuation from sentences\n",
        "punctuation = string.punctuation\n",
        "sentence1_sanitized = ''.join([char for char in sentence1 if char not in punctuation])\n",
        "sentence2_sanitized = ''.join([char for char in sentence2 if char not in punctuation])\n",
        "print(\"Sanitized Sentence 1:\",sentence1_sanitized)\n",
        "print(\"Sanitized Sentence 2:\",sentence2_sanitized)\n",
        "\n",
        "# (e) Count the number of vowels in each sentence and print the occurrences\n",
        "vowels = 'aeiouAEIOU'\n",
        "vowel_count1 = {vowel: sentence1.count(vowel) for vowel in vowels}\n",
        "vowel_count2 = {vowel: sentence2.count(vowel) for vowel in vowels}\n",
        "print(\"Vowel count in Sentence 1:\",vowel_count1)\n",
        "print(\"Vowel count in Sentence 2:\",vowel_count2)\n",
        "\n",
        "\n"
      ]
    },
    {
      "cell_type": "markdown",
      "source": [
        "# Question 4 (20 Points)"
      ],
      "metadata": {
        "id": "OP4-5qxAtInv"
      }
    },
    {
      "cell_type": "markdown",
      "source": [
        "Design and implement a simple command-line calculator program. The program should handle both integers and floating-point numbers.\n",
        "\n",
        "(a) Write program that takes a mathematical expression as input and evaluates it. The program should support addition, subtraction, multiplication, and division.\n",
        "\n",
        "(b) Extend the calculator to handle parentheses in mathematical expressions. Implement the necessary logic to evaluate expressions with nested parentheses.\n",
        "\n",
        "(c) Enhance your calculator to include additional mathematical operations such as exponentiation, square root, and modulus.\n",
        "\n",
        "(d) Implement error handling in the calculator program. Handle cases such as division by zero and invalid input expressions. Provide meaningful error messages.\n",
        "\n",
        "(e) Implement a command to exit the calculator."
      ],
      "metadata": {
        "id": "uzN4_hDptK9U"
      }
    },
    {
      "cell_type": "code",
      "source": [
        "# Your code here\n",
        "import math\n",
        "\n",
        "def calculate(expression):\n",
        "    try:\n",
        "        result = eval(expression)\n",
        "        return result\n",
        "    except ZeroDivisionError:\n",
        "        return \"Error: Division by zero\"\n",
        "    except SyntaxError:\n",
        "        return \"Error: Invalid syntax\"\n",
        "\n",
        "while True:\n",
        "    expression = input(\"Enter a mathematical expression (or 'exit' to quit): \")\n",
        "    if expression.lower() == 'exit':\n",
        "        print(\"Exiting the calculator.\")\n",
        "        break\n",
        "    result = calculate(expression)\n",
        "    print(\"Result:\", result)\n",
        "    print()\n",
        "\n"
      ],
      "metadata": {
        "id": "8nQnVxjJuYtu",
        "colab": {
          "base_uri": "https://localhost:8080/"
        },
        "outputId": "cc58e610-1e15-4933-8ca8-6cdf4e97d245"
      },
      "execution_count": 34,
      "outputs": [
        {
          "output_type": "stream",
          "name": "stdout",
          "text": [
            "Enter a mathematical expression (or 'exit' to quit): 4*3\n",
            "Result: 12\n",
            "\n",
            "Enter a mathematical expression (or 'exit' to quit): 4+3\n",
            "Result: 7\n",
            "\n",
            "Enter a mathematical expression (or 'exit' to quit): 4%3\n",
            "Result: 1\n",
            "\n",
            "Enter a mathematical expression (or 'exit' to quit): 4/3\n",
            "Result: 1.3333333333333333\n",
            "\n",
            "Enter a mathematical expression (or 'exit' to quit): exit\\\n",
            "Result: Error: Invalid syntax\n",
            "\n",
            "Enter a mathematical expression (or 'exit' to quit): exit\n",
            "Exiting the calculator.\n"
          ]
        }
      ]
    },
    {
      "cell_type": "markdown",
      "metadata": {
        "id": "z3tBE7E-Xn5X"
      },
      "source": [
        "# Question 5 (30 points).\n",
        "\n",
        "In the field of Data Science, data is often formatted as a comma-delimited (CSV) file, where each line in a file corresponds to a field's value. Refer to Chapter 9 (p. 106) for more information on comma-delimited files.\n",
        "\n",
        "To answer this question, you will need to download the file [Assignment1_denton_housing.csv](https://raw.githubusercontent.com/unt-iialab/info5731-spring2022/main/assignments/Assignment1_denton_housing.csv) included with this assignment. The file contains statistics about housing in the city of Denton from 2008 to 2014. Write a program to implement the following questions.\n",
        "\n",
        "(a) (5 pts) Calculate the difference in the number of Occupied Housing Units from year to year and print it. The difference must be calculated for the consecutive years such as 2008-2009, 2009-2010 etc. Finally, print the values in the ascending order.\n",
        "\n",
        "(b) (5 pts) For all the years, calculate the percentage of housing units which are vacant an occupied. Print the results in the following format:\n",
        "\n",
        "Year Vacant Housing Units Occupied Housing Units\n",
        "\n",
        "    2008  30%   70%                          \n",
        "\t2009 ----- -----\n",
        "\t2010 ----- -----\n",
        "    2011 ----- -----\n",
        "\t2012 ----- -----\n",
        "    2013 ----- -----\n",
        "\t2014 ----- -----\n",
        "  \n",
        "  \n",
        "\n",
        "(c) (10 pts) Calculate and print the valued and years in which the highest number of housing units were vacant and occupied. Print the results in the following format:  \n",
        "\n",
        "                              Year\tValue\n",
        "\tVacant Housing Units\t  -----   -----\n",
        "\tOccupied Housing Units\t-----   -----\n",
        "\n",
        "(d) (10 pts) Calculate the harmonic mean of the total housing units and print it out. You can find the information about harmonic mean here: https://ncalculators.com/statistics/harmonic-mean-calculator.htm"
      ]
    },
    {
      "cell_type": "code",
      "execution_count": 35,
      "metadata": {
        "id": "lqGYuHBhcsRH",
        "colab": {
          "base_uri": "https://localhost:8080/"
        },
        "outputId": "124bca85-3b9b-41ba-f3cc-c5f890959e5e"
      },
      "outputs": [
        {
          "output_type": "stream",
          "name": "stdout",
          "text": [
            "Yearly differences in Occupied Housing Units (ascending order):\n",
            " year  yearly_difference\n",
            " 2009             -795.0\n",
            " 2011             -303.0\n",
            " 2012             1404.0\n",
            " 2013             1565.0\n",
            " 2014             2622.0\n",
            " 2010             5091.0\n"
          ]
        }
      ],
      "source": [
        " # Your code here\n",
        "# Question (a)\n",
        "import pandas as pd\n",
        "from scipy.stats import hmean\n",
        "\n",
        "df = pd.read_csv(\"/content/Assignment1_denton_housing.csv\")\n",
        "\n",
        "occupied_units = df[df['title_field'] == 'Occupied Housing Units'].sort_values(by='year')\n",
        "occupied_units['yearly_difference'] = occupied_units['value'].diff()\n",
        "occupied_diff = occupied_units.dropna().sort_values(by='yearly_difference')\n",
        "\n",
        "print(\"Yearly differences in Occupied Housing Units (ascending order):\")\n",
        "print(occupied_diff[['year', 'yearly_difference']].to_string(index=False))\n",
        "\n"
      ]
    },
    {
      "cell_type": "code",
      "source": [
        "# Question (b)\n",
        "vacant_units = df[df['title_field'] == 'Vacant Housing Units'].sort_values(by='year')\n",
        "total_units = df[df['title_field'] == 'Total Housing Units'].sort_values(by='year')\n",
        "\n",
        "merged_data = pd.merge(vacant_units[['year', 'value']], occupied_units[['year', 'value']], on='year', suffixes=('_vacant', '_occupied'))\n",
        "merged_data = pd.merge(merged_data, total_units[['year', 'value']], on='year')\n",
        "merged_data.columns = ['year', 'vacant_units', 'occupied_units', 'total_units']\n",
        "\n",
        "merged_data['vacant_percentage'] = (merged_data['vacant_units'] / merged_data['total_units'] * 100).round().astype(int)\n",
        "merged_data['occupied_percentage'] = (merged_data['occupied_units'] / merged_data['total_units'] * 100).round().astype(int)\n",
        "\n",
        "print(\"Year Vacant Housing Units Occupied Housing Units\")\n",
        "for index, row in merged_data.iterrows():\n",
        "    print(f\"{row['year']}  {row['vacant_percentage']}%   {row['occupied_percentage']}%\")\n"
      ],
      "metadata": {
        "colab": {
          "base_uri": "https://localhost:8080/"
        },
        "id": "xIK6yLSwNVwT",
        "outputId": "ead37b71-2869-4385-87e8-274e4fe25591"
      },
      "execution_count": 36,
      "outputs": [
        {
          "output_type": "stream",
          "name": "stdout",
          "text": [
            "Year Vacant Housing Units Occupied Housing Units\n",
            "2008  11%   89%\n",
            "2009  9%   91%\n",
            "2010  8%   92%\n",
            "2011  9%   91%\n",
            "2012  7%   93%\n",
            "2013  9%   91%\n",
            "2014  6%   94%\n"
          ]
        }
      ]
    },
    {
      "cell_type": "code",
      "source": [
        "# Question (c)\n",
        "max_vacant = vacant_units[vacant_units['value'] == vacant_units['value'].max()]\n",
        "max_occupied = occupied_units[occupied_units['value'] == occupied_units['value'].max()]\n",
        "\n",
        "print(\"                          Year    Value\")\n",
        "print(f\"Vacant Housing Units      {max_vacant.iloc[0]['year']}   {max_vacant.iloc[0]['value']}\")\n",
        "print(f\"Occupied Housing Units    {max_occupied.iloc[0]['year']}   {max_occupied.iloc[0]['value']}\")"
      ],
      "metadata": {
        "colab": {
          "base_uri": "https://localhost:8080/"
        },
        "id": "zfshi9ETQMD9",
        "outputId": "c5369044-e90f-4413-a5dd-3babb45b44a7"
      },
      "execution_count": 37,
      "outputs": [
        {
          "output_type": "stream",
          "name": "stdout",
          "text": [
            "                          Year    Value\n",
            "Vacant Housing Units      2008   4483\n",
            "Occupied Housing Units    2014   46295\n"
          ]
        }
      ]
    },
    {
      "cell_type": "code",
      "source": [
        "# Question (d)\n",
        "harmonic_mean = hmean(total_units['value'])\n",
        "print(f\"The harmonic mean of the total housing units is: {harmonic_mean:.2f}\")"
      ],
      "metadata": {
        "colab": {
          "base_uri": "https://localhost:8080/"
        },
        "id": "f3zO2XR9QiGU",
        "outputId": "913c6a7c-812c-40fd-adbb-53f707cacf9f"
      },
      "execution_count": 38,
      "outputs": [
        {
          "output_type": "stream",
          "name": "stdout",
          "text": [
            "The harmonic mean of the total housing units is: 44398.29\n"
          ]
        }
      ]
    },
    {
      "cell_type": "markdown",
      "source": [
        "# Mandatory Question\n",
        "\n",
        "Provide your thoughts on the assignment. What did you find challenging, and what aspects did you enjoy? Your opinion on the provided time to complete the assignment. Share any suggestions for improvement. Your feedback will be valuable for enhancing the learning experience."
      ],
      "metadata": {
        "id": "q8BFCvWp32cf"
      }
    },
    {
      "cell_type": "code",
      "source": [
        "# Write your response below\n",
        "\n",
        "# Through this assignment I got learn about functions, how to create a basic calulator and how to deal with mathmetical equations.\n",
        "# I have mostly enjoyed with calculator problem and I have spent around two in working on this assignment.\n",
        "\n",
        "\n",
        "\n",
        "\n",
        "\n"
      ],
      "metadata": {
        "id": "_e557s2w4BpK"
      },
      "execution_count": 40,
      "outputs": []
    }
  ],
  "metadata": {
    "colab": {
      "provenance": [],
      "toc_visible": true,
      "include_colab_link": true
    },
    "kernelspec": {
      "display_name": "Python 3 (ipykernel)",
      "language": "python",
      "name": "python3"
    },
    "language_info": {
      "codemirror_mode": {
        "name": "ipython",
        "version": 3
      },
      "file_extension": ".py",
      "mimetype": "text/x-python",
      "name": "python",
      "nbconvert_exporter": "python",
      "pygments_lexer": "ipython3",
      "version": "3.9.12"
    }
  },
  "nbformat": 4,
  "nbformat_minor": 0
}